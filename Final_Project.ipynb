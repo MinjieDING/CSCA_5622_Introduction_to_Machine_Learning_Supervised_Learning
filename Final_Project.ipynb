{
 "cells": [
  {
   "cell_type": "markdown",
   "metadata": {},
   "source": [
    "# Final Project - Introduction to Machine Learning: Supervised Learning"
   ]
  },
  {
   "cell_type": "markdown",
   "metadata": {},
   "source": [
    "This is my final project for **CSCA 5622 Introduction to Machine Learning: Supervised Learning**. \n",
    "\n",
    "I am utilizing data from UCI Machine Learning Repository https://archive.ics.uci.edu/ "
   ]
  },
  {
   "cell_type": "markdown",
   "metadata": {},
   "source": [
    "I am using a Dataset called **Adult** that has the following description:\n",
    "\n",
    "*Predict whether annual income of an individual exceeds $50K/yr based on census data. Also known as \"Census Income\" dataset.\n",
    ".*\n",
    "   \n",
    "\n",
    "Source: https://archive.ics.uci.edu/dataset/2/adult\n",
    "\n",
    "Citation: Becker, B. & Kohavi, R. (1996). Adult [Dataset]. UCI Machine Learning Repository. https://doi.org/10.24432/C5XW20."
   ]
  },
  {
   "cell_type": "markdown",
   "metadata": {},
   "source": [
    "This is Github repository: https://github.com/MinjieDING/CSCA_5622_Introduction_to_Machine_Learning_Supervised_Learning."
   ]
  },
  {
   "cell_type": "markdown",
   "metadata": {},
   "source": [
    "# 1. Preparation\n",
    "\n",
    "## Objective\n",
    "I want to use this data to help predict Predict whether annual income of an individual exceeds $50K/yr based on census data. \n",
    "\n",
    "## Main model\n",
    "The main model I will use is a Data Tree Classifier as it utilizes all the features provided in the data, and will also help me to find the most important features. "
   ]
  },
  {
   "cell_type": "markdown",
   "metadata": {},
   "source": [
    "## Import Libraries and Data\n",
    "We start with importing necessary libraries:"
   ]
  },
  {
   "cell_type": "code",
   "execution_count": 1,
   "metadata": {},
   "outputs": [],
   "source": [
    "%matplotlib inline\n",
    "import sklearn\n",
    "from sklearn.model_selection import train_test_split\n",
    "from sklearn import preprocessing\n",
    "import numpy as np\n",
    "import scipy as sp\n",
    "import scipy.stats as stats\n",
    "import pandas as pd\n",
    "import matplotlib.pyplot as plt\n",
    "import seaborn as sns\n",
    "# Set color map to have light blue background\n",
    "sns.set()\n",
    "import statsmodels.formula.api as smf\n",
    "import statsmodels.api as sm\n",
    "from sklearn.tree import DecisionTreeClassifier\n",
    "from sklearn.metrics import accuracy_score, make_scorer\n",
    "from sklearn.model_selection import train_test_split\n",
    "from sklearn.model_selection import GridSearchCV\n",
    "from sklearn.metrics import f1_score\n",
    "from sklearn import tree\n"
   ]
  },
  {
   "cell_type": "markdown",
   "metadata": {},
   "source": [
    "Source: https://archive.ics.uci.edu/dataset/2/adult"
   ]
  },
  {
   "cell_type": "markdown",
   "metadata": {},
   "source": [
    "### Data Import"
   ]
  },
  {
   "cell_type": "markdown",
   "metadata": {},
   "source": [
    "We then import the data from the data file:"
   ]
  },
  {
   "cell_type": "code",
   "execution_count": 2,
   "metadata": {},
   "outputs": [
    {
     "name": "stdout",
     "output_type": "stream",
     "text": [
      "Requirement already satisfied: ucimlrepo in d:\\program files\\anaconda\\lib\\site-packages (0.0.7)\n",
      "Requirement already satisfied: pandas>=1.0.0 in d:\\program files\\anaconda\\lib\\site-packages (from ucimlrepo) (2.1.4)\n",
      "Requirement already satisfied: certifi>=2020.12.5 in d:\\program files\\anaconda\\lib\\site-packages (from ucimlrepo) (2024.2.2)\n",
      "Requirement already satisfied: numpy<2,>=1.23.2 in d:\\program files\\anaconda\\lib\\site-packages (from pandas>=1.0.0->ucimlrepo) (1.26.4)\n",
      "Requirement already satisfied: python-dateutil>=2.8.2 in d:\\program files\\anaconda\\lib\\site-packages (from pandas>=1.0.0->ucimlrepo) (2.8.2)\n",
      "Requirement already satisfied: pytz>=2020.1 in d:\\program files\\anaconda\\lib\\site-packages (from pandas>=1.0.0->ucimlrepo) (2023.3.post1)\n",
      "Requirement already satisfied: tzdata>=2022.1 in d:\\program files\\anaconda\\lib\\site-packages (from pandas>=1.0.0->ucimlrepo) (2023.3)\n",
      "Requirement already satisfied: six>=1.5 in d:\\program files\\anaconda\\lib\\site-packages (from python-dateutil>=2.8.2->pandas>=1.0.0->ucimlrepo) (1.16.0)\n",
      "Note: you may need to restart the kernel to use updated packages.\n"
     ]
    }
   ],
   "source": [
    "%pip install ucimlrepo"
   ]
  },
  {
   "cell_type": "code",
   "execution_count": 3,
   "metadata": {},
   "outputs": [
    {
     "name": "stdout",
     "output_type": "stream",
     "text": [
      "              name     role         type      demographic  \\\n",
      "0              age  Feature      Integer              Age   \n",
      "1        workclass  Feature  Categorical           Income   \n",
      "2           fnlwgt  Feature      Integer             None   \n",
      "3        education  Feature  Categorical  Education Level   \n",
      "4    education-num  Feature      Integer  Education Level   \n",
      "5   marital-status  Feature  Categorical            Other   \n",
      "6       occupation  Feature  Categorical            Other   \n",
      "7     relationship  Feature  Categorical            Other   \n",
      "8             race  Feature  Categorical             Race   \n",
      "9              sex  Feature       Binary              Sex   \n",
      "10    capital-gain  Feature      Integer             None   \n",
      "11    capital-loss  Feature      Integer             None   \n",
      "12  hours-per-week  Feature      Integer             None   \n",
      "13  native-country  Feature  Categorical            Other   \n",
      "14          income   Target       Binary           Income   \n",
      "\n",
      "                                          description units missing_values  \n",
      "0                                                 N/A  None             no  \n",
      "1   Private, Self-emp-not-inc, Self-emp-inc, Feder...  None            yes  \n",
      "2                                                None  None             no  \n",
      "3    Bachelors, Some-college, 11th, HS-grad, Prof-...  None             no  \n",
      "4                                                None  None             no  \n",
      "5   Married-civ-spouse, Divorced, Never-married, S...  None             no  \n",
      "6   Tech-support, Craft-repair, Other-service, Sal...  None            yes  \n",
      "7   Wife, Own-child, Husband, Not-in-family, Other...  None             no  \n",
      "8   White, Asian-Pac-Islander, Amer-Indian-Eskimo,...  None             no  \n",
      "9                                       Female, Male.  None             no  \n",
      "10                                               None  None             no  \n",
      "11                                               None  None             no  \n",
      "12                                               None  None             no  \n",
      "13  United-States, Cambodia, England, Puerto-Rico,...  None            yes  \n",
      "14                                       >50K, <=50K.  None             no  \n"
     ]
    }
   ],
   "source": [
    "from ucimlrepo import fetch_ucirepo \n",
    "  \n",
    "# fetch dataset \n",
    "adult = fetch_ucirepo(id=2) \n",
    "  \n",
    "# data (as pandas dataframes) \n",
    "X = adult.data.features \n",
    "y = adult.data.targets \n",
    "  \n",
    "# metadata \n",
    "# print(adult.metadata) \n",
    "  \n",
    "# variable information \n",
    "print(adult.variables) "
   ]
  },
  {
   "cell_type": "markdown",
   "metadata": {},
   "source": [
    "Below we see a sample of the data"
   ]
  },
  {
   "cell_type": "code",
   "execution_count": 4,
   "metadata": {},
   "outputs": [
    {
     "data": {
      "text/html": [
       "<div>\n",
       "<style scoped>\n",
       "    .dataframe tbody tr th:only-of-type {\n",
       "        vertical-align: middle;\n",
       "    }\n",
       "\n",
       "    .dataframe tbody tr th {\n",
       "        vertical-align: top;\n",
       "    }\n",
       "\n",
       "    .dataframe thead th {\n",
       "        text-align: right;\n",
       "    }\n",
       "</style>\n",
       "<table border=\"1\" class=\"dataframe\">\n",
       "  <thead>\n",
       "    <tr style=\"text-align: right;\">\n",
       "      <th></th>\n",
       "      <th>age</th>\n",
       "      <th>workclass</th>\n",
       "      <th>fnlwgt</th>\n",
       "      <th>education</th>\n",
       "      <th>education-num</th>\n",
       "      <th>marital-status</th>\n",
       "      <th>occupation</th>\n",
       "      <th>relationship</th>\n",
       "      <th>race</th>\n",
       "      <th>sex</th>\n",
       "      <th>capital-gain</th>\n",
       "      <th>capital-loss</th>\n",
       "      <th>hours-per-week</th>\n",
       "      <th>native-country</th>\n",
       "    </tr>\n",
       "  </thead>\n",
       "  <tbody>\n",
       "    <tr>\n",
       "      <th>0</th>\n",
       "      <td>39</td>\n",
       "      <td>State-gov</td>\n",
       "      <td>77516</td>\n",
       "      <td>Bachelors</td>\n",
       "      <td>13</td>\n",
       "      <td>Never-married</td>\n",
       "      <td>Adm-clerical</td>\n",
       "      <td>Not-in-family</td>\n",
       "      <td>White</td>\n",
       "      <td>Male</td>\n",
       "      <td>2174</td>\n",
       "      <td>0</td>\n",
       "      <td>40</td>\n",
       "      <td>United-States</td>\n",
       "    </tr>\n",
       "    <tr>\n",
       "      <th>1</th>\n",
       "      <td>50</td>\n",
       "      <td>Self-emp-not-inc</td>\n",
       "      <td>83311</td>\n",
       "      <td>Bachelors</td>\n",
       "      <td>13</td>\n",
       "      <td>Married-civ-spouse</td>\n",
       "      <td>Exec-managerial</td>\n",
       "      <td>Husband</td>\n",
       "      <td>White</td>\n",
       "      <td>Male</td>\n",
       "      <td>0</td>\n",
       "      <td>0</td>\n",
       "      <td>13</td>\n",
       "      <td>United-States</td>\n",
       "    </tr>\n",
       "    <tr>\n",
       "      <th>2</th>\n",
       "      <td>38</td>\n",
       "      <td>Private</td>\n",
       "      <td>215646</td>\n",
       "      <td>HS-grad</td>\n",
       "      <td>9</td>\n",
       "      <td>Divorced</td>\n",
       "      <td>Handlers-cleaners</td>\n",
       "      <td>Not-in-family</td>\n",
       "      <td>White</td>\n",
       "      <td>Male</td>\n",
       "      <td>0</td>\n",
       "      <td>0</td>\n",
       "      <td>40</td>\n",
       "      <td>United-States</td>\n",
       "    </tr>\n",
       "    <tr>\n",
       "      <th>3</th>\n",
       "      <td>53</td>\n",
       "      <td>Private</td>\n",
       "      <td>234721</td>\n",
       "      <td>11th</td>\n",
       "      <td>7</td>\n",
       "      <td>Married-civ-spouse</td>\n",
       "      <td>Handlers-cleaners</td>\n",
       "      <td>Husband</td>\n",
       "      <td>Black</td>\n",
       "      <td>Male</td>\n",
       "      <td>0</td>\n",
       "      <td>0</td>\n",
       "      <td>40</td>\n",
       "      <td>United-States</td>\n",
       "    </tr>\n",
       "    <tr>\n",
       "      <th>4</th>\n",
       "      <td>28</td>\n",
       "      <td>Private</td>\n",
       "      <td>338409</td>\n",
       "      <td>Bachelors</td>\n",
       "      <td>13</td>\n",
       "      <td>Married-civ-spouse</td>\n",
       "      <td>Prof-specialty</td>\n",
       "      <td>Wife</td>\n",
       "      <td>Black</td>\n",
       "      <td>Female</td>\n",
       "      <td>0</td>\n",
       "      <td>0</td>\n",
       "      <td>40</td>\n",
       "      <td>Cuba</td>\n",
       "    </tr>\n",
       "  </tbody>\n",
       "</table>\n",
       "</div>"
      ],
      "text/plain": [
       "   age         workclass  fnlwgt  education  education-num  \\\n",
       "0   39         State-gov   77516  Bachelors             13   \n",
       "1   50  Self-emp-not-inc   83311  Bachelors             13   \n",
       "2   38           Private  215646    HS-grad              9   \n",
       "3   53           Private  234721       11th              7   \n",
       "4   28           Private  338409  Bachelors             13   \n",
       "\n",
       "       marital-status         occupation   relationship   race     sex  \\\n",
       "0       Never-married       Adm-clerical  Not-in-family  White    Male   \n",
       "1  Married-civ-spouse    Exec-managerial        Husband  White    Male   \n",
       "2            Divorced  Handlers-cleaners  Not-in-family  White    Male   \n",
       "3  Married-civ-spouse  Handlers-cleaners        Husband  Black    Male   \n",
       "4  Married-civ-spouse     Prof-specialty           Wife  Black  Female   \n",
       "\n",
       "   capital-gain  capital-loss  hours-per-week native-country  \n",
       "0          2174             0              40  United-States  \n",
       "1             0             0              13  United-States  \n",
       "2             0             0              40  United-States  \n",
       "3             0             0              40  United-States  \n",
       "4             0             0              40           Cuba  "
      ]
     },
     "execution_count": 4,
     "metadata": {},
     "output_type": "execute_result"
    }
   ],
   "source": [
    "X.head()"
   ]
  },
  {
   "cell_type": "code",
   "execution_count": 5,
   "metadata": {},
   "outputs": [
    {
     "data": {
      "text/html": [
       "<div>\n",
       "<style scoped>\n",
       "    .dataframe tbody tr th:only-of-type {\n",
       "        vertical-align: middle;\n",
       "    }\n",
       "\n",
       "    .dataframe tbody tr th {\n",
       "        vertical-align: top;\n",
       "    }\n",
       "\n",
       "    .dataframe thead th {\n",
       "        text-align: right;\n",
       "    }\n",
       "</style>\n",
       "<table border=\"1\" class=\"dataframe\">\n",
       "  <thead>\n",
       "    <tr style=\"text-align: right;\">\n",
       "      <th></th>\n",
       "      <th>income</th>\n",
       "    </tr>\n",
       "  </thead>\n",
       "  <tbody>\n",
       "    <tr>\n",
       "      <th>0</th>\n",
       "      <td>&lt;=50K</td>\n",
       "    </tr>\n",
       "    <tr>\n",
       "      <th>1</th>\n",
       "      <td>&lt;=50K</td>\n",
       "    </tr>\n",
       "    <tr>\n",
       "      <th>2</th>\n",
       "      <td>&lt;=50K</td>\n",
       "    </tr>\n",
       "    <tr>\n",
       "      <th>3</th>\n",
       "      <td>&lt;=50K</td>\n",
       "    </tr>\n",
       "    <tr>\n",
       "      <th>4</th>\n",
       "      <td>&lt;=50K</td>\n",
       "    </tr>\n",
       "  </tbody>\n",
       "</table>\n",
       "</div>"
      ],
      "text/plain": [
       "  income\n",
       "0  <=50K\n",
       "1  <=50K\n",
       "2  <=50K\n",
       "3  <=50K\n",
       "4  <=50K"
      ]
     },
     "execution_count": 5,
     "metadata": {},
     "output_type": "execute_result"
    }
   ],
   "source": [
    "y.head()"
   ]
  },
  {
   "cell_type": "markdown",
   "metadata": {},
   "source": [
    "There doesn't seem to be any NULL values but they are set to unknown"
   ]
  },
  {
   "cell_type": "code",
   "execution_count": 6,
   "metadata": {},
   "outputs": [
    {
     "name": "stdout",
     "output_type": "stream",
     "text": [
      "<class 'pandas.core.frame.DataFrame'>\n",
      "RangeIndex: 48842 entries, 0 to 48841\n",
      "Data columns (total 14 columns):\n",
      " #   Column          Non-Null Count  Dtype \n",
      "---  ------          --------------  ----- \n",
      " 0   age             48842 non-null  int64 \n",
      " 1   workclass       47879 non-null  object\n",
      " 2   fnlwgt          48842 non-null  int64 \n",
      " 3   education       48842 non-null  object\n",
      " 4   education-num   48842 non-null  int64 \n",
      " 5   marital-status  48842 non-null  object\n",
      " 6   occupation      47876 non-null  object\n",
      " 7   relationship    48842 non-null  object\n",
      " 8   race            48842 non-null  object\n",
      " 9   sex             48842 non-null  object\n",
      " 10  capital-gain    48842 non-null  int64 \n",
      " 11  capital-loss    48842 non-null  int64 \n",
      " 12  hours-per-week  48842 non-null  int64 \n",
      " 13  native-country  48568 non-null  object\n",
      "dtypes: int64(6), object(8)\n",
      "memory usage: 5.2+ MB\n",
      "None\n"
     ]
    },
    {
     "data": {
      "text/html": [
       "<div>\n",
       "<style scoped>\n",
       "    .dataframe tbody tr th:only-of-type {\n",
       "        vertical-align: middle;\n",
       "    }\n",
       "\n",
       "    .dataframe tbody tr th {\n",
       "        vertical-align: top;\n",
       "    }\n",
       "\n",
       "    .dataframe thead th {\n",
       "        text-align: right;\n",
       "    }\n",
       "</style>\n",
       "<table border=\"1\" class=\"dataframe\">\n",
       "  <thead>\n",
       "    <tr style=\"text-align: right;\">\n",
       "      <th></th>\n",
       "      <th>age</th>\n",
       "      <th>fnlwgt</th>\n",
       "      <th>education-num</th>\n",
       "      <th>capital-gain</th>\n",
       "      <th>capital-loss</th>\n",
       "      <th>hours-per-week</th>\n",
       "    </tr>\n",
       "  </thead>\n",
       "  <tbody>\n",
       "    <tr>\n",
       "      <th>count</th>\n",
       "      <td>48842.000000</td>\n",
       "      <td>4.884200e+04</td>\n",
       "      <td>48842.000000</td>\n",
       "      <td>48842.000000</td>\n",
       "      <td>48842.000000</td>\n",
       "      <td>48842.000000</td>\n",
       "    </tr>\n",
       "    <tr>\n",
       "      <th>mean</th>\n",
       "      <td>38.643585</td>\n",
       "      <td>1.896641e+05</td>\n",
       "      <td>10.078089</td>\n",
       "      <td>1079.067626</td>\n",
       "      <td>87.502314</td>\n",
       "      <td>40.422382</td>\n",
       "    </tr>\n",
       "    <tr>\n",
       "      <th>std</th>\n",
       "      <td>13.710510</td>\n",
       "      <td>1.056040e+05</td>\n",
       "      <td>2.570973</td>\n",
       "      <td>7452.019058</td>\n",
       "      <td>403.004552</td>\n",
       "      <td>12.391444</td>\n",
       "    </tr>\n",
       "    <tr>\n",
       "      <th>min</th>\n",
       "      <td>17.000000</td>\n",
       "      <td>1.228500e+04</td>\n",
       "      <td>1.000000</td>\n",
       "      <td>0.000000</td>\n",
       "      <td>0.000000</td>\n",
       "      <td>1.000000</td>\n",
       "    </tr>\n",
       "    <tr>\n",
       "      <th>25%</th>\n",
       "      <td>28.000000</td>\n",
       "      <td>1.175505e+05</td>\n",
       "      <td>9.000000</td>\n",
       "      <td>0.000000</td>\n",
       "      <td>0.000000</td>\n",
       "      <td>40.000000</td>\n",
       "    </tr>\n",
       "    <tr>\n",
       "      <th>50%</th>\n",
       "      <td>37.000000</td>\n",
       "      <td>1.781445e+05</td>\n",
       "      <td>10.000000</td>\n",
       "      <td>0.000000</td>\n",
       "      <td>0.000000</td>\n",
       "      <td>40.000000</td>\n",
       "    </tr>\n",
       "    <tr>\n",
       "      <th>75%</th>\n",
       "      <td>48.000000</td>\n",
       "      <td>2.376420e+05</td>\n",
       "      <td>12.000000</td>\n",
       "      <td>0.000000</td>\n",
       "      <td>0.000000</td>\n",
       "      <td>45.000000</td>\n",
       "    </tr>\n",
       "    <tr>\n",
       "      <th>max</th>\n",
       "      <td>90.000000</td>\n",
       "      <td>1.490400e+06</td>\n",
       "      <td>16.000000</td>\n",
       "      <td>99999.000000</td>\n",
       "      <td>4356.000000</td>\n",
       "      <td>99.000000</td>\n",
       "    </tr>\n",
       "  </tbody>\n",
       "</table>\n",
       "</div>"
      ],
      "text/plain": [
       "                age        fnlwgt  education-num  capital-gain  capital-loss  \\\n",
       "count  48842.000000  4.884200e+04   48842.000000  48842.000000  48842.000000   \n",
       "mean      38.643585  1.896641e+05      10.078089   1079.067626     87.502314   \n",
       "std       13.710510  1.056040e+05       2.570973   7452.019058    403.004552   \n",
       "min       17.000000  1.228500e+04       1.000000      0.000000      0.000000   \n",
       "25%       28.000000  1.175505e+05       9.000000      0.000000      0.000000   \n",
       "50%       37.000000  1.781445e+05      10.000000      0.000000      0.000000   \n",
       "75%       48.000000  2.376420e+05      12.000000      0.000000      0.000000   \n",
       "max       90.000000  1.490400e+06      16.000000  99999.000000   4356.000000   \n",
       "\n",
       "       hours-per-week  \n",
       "count    48842.000000  \n",
       "mean        40.422382  \n",
       "std         12.391444  \n",
       "min          1.000000  \n",
       "25%         40.000000  \n",
       "50%         40.000000  \n",
       "75%         45.000000  \n",
       "max         99.000000  "
      ]
     },
     "execution_count": 6,
     "metadata": {},
     "output_type": "execute_result"
    }
   ],
   "source": [
    "print(X.info())\n",
    "X.describe()"
   ]
  },
  {
   "cell_type": "code",
   "execution_count": 7,
   "metadata": {},
   "outputs": [
    {
     "name": "stdout",
     "output_type": "stream",
     "text": [
      "<class 'pandas.core.frame.DataFrame'>\n",
      "RangeIndex: 48842 entries, 0 to 48841\n",
      "Data columns (total 1 columns):\n",
      " #   Column  Non-Null Count  Dtype \n",
      "---  ------  --------------  ----- \n",
      " 0   income  48842 non-null  object\n",
      "dtypes: object(1)\n",
      "memory usage: 381.7+ KB\n",
      "None\n"
     ]
    },
    {
     "data": {
      "text/html": [
       "<div>\n",
       "<style scoped>\n",
       "    .dataframe tbody tr th:only-of-type {\n",
       "        vertical-align: middle;\n",
       "    }\n",
       "\n",
       "    .dataframe tbody tr th {\n",
       "        vertical-align: top;\n",
       "    }\n",
       "\n",
       "    .dataframe thead th {\n",
       "        text-align: right;\n",
       "    }\n",
       "</style>\n",
       "<table border=\"1\" class=\"dataframe\">\n",
       "  <thead>\n",
       "    <tr style=\"text-align: right;\">\n",
       "      <th></th>\n",
       "      <th>income</th>\n",
       "    </tr>\n",
       "  </thead>\n",
       "  <tbody>\n",
       "    <tr>\n",
       "      <th>count</th>\n",
       "      <td>48842</td>\n",
       "    </tr>\n",
       "    <tr>\n",
       "      <th>unique</th>\n",
       "      <td>4</td>\n",
       "    </tr>\n",
       "    <tr>\n",
       "      <th>top</th>\n",
       "      <td>&lt;=50K</td>\n",
       "    </tr>\n",
       "    <tr>\n",
       "      <th>freq</th>\n",
       "      <td>24720</td>\n",
       "    </tr>\n",
       "  </tbody>\n",
       "</table>\n",
       "</div>"
      ],
      "text/plain": [
       "       income\n",
       "count   48842\n",
       "unique      4\n",
       "top     <=50K\n",
       "freq    24720"
      ]
     },
     "execution_count": 7,
     "metadata": {},
     "output_type": "execute_result"
    }
   ],
   "source": [
    "print(y.info())\n",
    "y.describe()"
   ]
  },
  {
   "cell_type": "markdown",
   "metadata": {},
   "source": [
    "We initially have 13 features with 48842 rows, as we go through data cleaning this may change."
   ]
  },
  {
   "cell_type": "code",
   "execution_count": 8,
   "metadata": {},
   "outputs": [
    {
     "data": {
      "text/html": [
       "<div>\n",
       "<style scoped>\n",
       "    .dataframe tbody tr th:only-of-type {\n",
       "        vertical-align: middle;\n",
       "    }\n",
       "\n",
       "    .dataframe tbody tr th {\n",
       "        vertical-align: top;\n",
       "    }\n",
       "\n",
       "    .dataframe thead th {\n",
       "        text-align: right;\n",
       "    }\n",
       "</style>\n",
       "<table border=\"1\" class=\"dataframe\">\n",
       "  <thead>\n",
       "    <tr style=\"text-align: right;\">\n",
       "      <th></th>\n",
       "      <th>age</th>\n",
       "      <th>workclass</th>\n",
       "      <th>fnlwgt</th>\n",
       "      <th>education</th>\n",
       "      <th>education-num</th>\n",
       "      <th>marital-status</th>\n",
       "      <th>occupation</th>\n",
       "      <th>relationship</th>\n",
       "      <th>race</th>\n",
       "      <th>sex</th>\n",
       "      <th>capital-gain</th>\n",
       "      <th>capital-loss</th>\n",
       "      <th>hours-per-week</th>\n",
       "      <th>native-country</th>\n",
       "      <th>income</th>\n",
       "    </tr>\n",
       "  </thead>\n",
       "  <tbody>\n",
       "    <tr>\n",
       "      <th>0</th>\n",
       "      <td>39</td>\n",
       "      <td>State-gov</td>\n",
       "      <td>77516</td>\n",
       "      <td>Bachelors</td>\n",
       "      <td>13</td>\n",
       "      <td>Never-married</td>\n",
       "      <td>Adm-clerical</td>\n",
       "      <td>Not-in-family</td>\n",
       "      <td>White</td>\n",
       "      <td>Male</td>\n",
       "      <td>2174</td>\n",
       "      <td>0</td>\n",
       "      <td>40</td>\n",
       "      <td>United-States</td>\n",
       "      <td>&lt;=50K</td>\n",
       "    </tr>\n",
       "    <tr>\n",
       "      <th>1</th>\n",
       "      <td>50</td>\n",
       "      <td>Self-emp-not-inc</td>\n",
       "      <td>83311</td>\n",
       "      <td>Bachelors</td>\n",
       "      <td>13</td>\n",
       "      <td>Married-civ-spouse</td>\n",
       "      <td>Exec-managerial</td>\n",
       "      <td>Husband</td>\n",
       "      <td>White</td>\n",
       "      <td>Male</td>\n",
       "      <td>0</td>\n",
       "      <td>0</td>\n",
       "      <td>13</td>\n",
       "      <td>United-States</td>\n",
       "      <td>&lt;=50K</td>\n",
       "    </tr>\n",
       "    <tr>\n",
       "      <th>2</th>\n",
       "      <td>38</td>\n",
       "      <td>Private</td>\n",
       "      <td>215646</td>\n",
       "      <td>HS-grad</td>\n",
       "      <td>9</td>\n",
       "      <td>Divorced</td>\n",
       "      <td>Handlers-cleaners</td>\n",
       "      <td>Not-in-family</td>\n",
       "      <td>White</td>\n",
       "      <td>Male</td>\n",
       "      <td>0</td>\n",
       "      <td>0</td>\n",
       "      <td>40</td>\n",
       "      <td>United-States</td>\n",
       "      <td>&lt;=50K</td>\n",
       "    </tr>\n",
       "    <tr>\n",
       "      <th>3</th>\n",
       "      <td>53</td>\n",
       "      <td>Private</td>\n",
       "      <td>234721</td>\n",
       "      <td>11th</td>\n",
       "      <td>7</td>\n",
       "      <td>Married-civ-spouse</td>\n",
       "      <td>Handlers-cleaners</td>\n",
       "      <td>Husband</td>\n",
       "      <td>Black</td>\n",
       "      <td>Male</td>\n",
       "      <td>0</td>\n",
       "      <td>0</td>\n",
       "      <td>40</td>\n",
       "      <td>United-States</td>\n",
       "      <td>&lt;=50K</td>\n",
       "    </tr>\n",
       "    <tr>\n",
       "      <th>4</th>\n",
       "      <td>28</td>\n",
       "      <td>Private</td>\n",
       "      <td>338409</td>\n",
       "      <td>Bachelors</td>\n",
       "      <td>13</td>\n",
       "      <td>Married-civ-spouse</td>\n",
       "      <td>Prof-specialty</td>\n",
       "      <td>Wife</td>\n",
       "      <td>Black</td>\n",
       "      <td>Female</td>\n",
       "      <td>0</td>\n",
       "      <td>0</td>\n",
       "      <td>40</td>\n",
       "      <td>Cuba</td>\n",
       "      <td>&lt;=50K</td>\n",
       "    </tr>\n",
       "  </tbody>\n",
       "</table>\n",
       "</div>"
      ],
      "text/plain": [
       "   age         workclass  fnlwgt  education  education-num  \\\n",
       "0   39         State-gov   77516  Bachelors             13   \n",
       "1   50  Self-emp-not-inc   83311  Bachelors             13   \n",
       "2   38           Private  215646    HS-grad              9   \n",
       "3   53           Private  234721       11th              7   \n",
       "4   28           Private  338409  Bachelors             13   \n",
       "\n",
       "       marital-status         occupation   relationship   race     sex  \\\n",
       "0       Never-married       Adm-clerical  Not-in-family  White    Male   \n",
       "1  Married-civ-spouse    Exec-managerial        Husband  White    Male   \n",
       "2            Divorced  Handlers-cleaners  Not-in-family  White    Male   \n",
       "3  Married-civ-spouse  Handlers-cleaners        Husband  Black    Male   \n",
       "4  Married-civ-spouse     Prof-specialty           Wife  Black  Female   \n",
       "\n",
       "   capital-gain  capital-loss  hours-per-week native-country income  \n",
       "0          2174             0              40  United-States  <=50K  \n",
       "1             0             0              13  United-States  <=50K  \n",
       "2             0             0              40  United-States  <=50K  \n",
       "3             0             0              40  United-States  <=50K  \n",
       "4             0             0              40           Cuba  <=50K  "
      ]
     },
     "execution_count": 8,
     "metadata": {},
     "output_type": "execute_result"
    }
   ],
   "source": [
    "df = merged_data = pd.concat([X, y], axis=1)\n",
    "df['income'] = df['income'].replace('<=50K.', '<=50K')\n",
    "df['income'] = df['income'].replace('>50K.', '>50K')\n",
    "df.head()"
   ]
  },
  {
   "cell_type": "markdown",
   "metadata": {},
   "source": [
    "### Data Cleaning"
   ]
  },
  {
   "cell_type": "markdown",
   "metadata": {},
   "source": [
    "We want to find the columns that have null values and the course of action for each."
   ]
  },
  {
   "cell_type": "code",
   "execution_count": 9,
   "metadata": {},
   "outputs": [
    {
     "name": "stdout",
     "output_type": "stream",
     "text": [
      "Impute column ' workclass '  - Percenteage of null values:  0.019716637320339053\n",
      "Impute column ' occupation '  - Percenteage of null values:  0.019778059866508334\n",
      "Impute column ' native-country '  - Percenteage of null values:  0.005609925883460955\n"
     ]
    }
   ],
   "source": [
    "for c in df.columns:\n",
    "    if(df[c].isnull().sum() / len(df) >0 and df[c].isnull().sum() / len(df) <= .05):\n",
    "        print(\"Impute column '\",c, \"'  - Percenteage of null values: \", df[c].isnull().sum() / len(df))\n",
    "    elif (df[c].isnull().sum() / len(df)) > .05:\n",
    "        print(\"Drop column '\", c, \"'  - Percenteage of null values: \", X[c].isnull().sum() / len(df))"
   ]
  },
  {
   "cell_type": "markdown",
   "metadata": {},
   "source": [
    "There is no column with too many missing values. There are three columns that contain null values, but they can be inputed with the mode of each as they are all categorical columns.  "
   ]
  },
  {
   "cell_type": "code",
   "execution_count": 10,
   "metadata": {},
   "outputs": [
    {
     "name": "stdout",
     "output_type": "stream",
     "text": [
      "['workclass', 'occupation', 'native-country']\n"
     ]
    }
   ],
   "source": [
    "#Impute the remaining columns with null values\n",
    "cols = df.columns\n",
    "feats_w_null = []\n",
    "for c in df.columns:\n",
    "    if df[c].isnull().sum() > 0:\n",
    "        feats_w_null.append(c)\n",
    "\n",
    "\n",
    "print(feats_w_null)\n"
   ]
  },
  {
   "cell_type": "code",
   "execution_count": 11,
   "metadata": {},
   "outputs": [
    {
     "name": "stdout",
     "output_type": "stream",
     "text": [
      "Filled nulls for workclass\n",
      "Filled nulls for occupation\n",
      "Filled nulls for native-country\n"
     ]
    }
   ],
   "source": [
    "#For each column in feats_w_null we get the mode and replace all null values with the most common entry\n",
    "\n",
    "for x in feats_w_null:\n",
    "    replacement = df[x].mode()\n",
    "    df[x].fillna(replacement[0], inplace=True)\n",
    "    print(\"Filled nulls for\", x)\n"
   ]
  },
  {
   "cell_type": "code",
   "execution_count": 12,
   "metadata": {},
   "outputs": [],
   "source": [
    "for c in df.columns:\n",
    "    if(df[c].isnull().sum() / len(df) >0 and df[c].isnull().sum() / len(df) <= .05):\n",
    "        print(\"Impute: \",c)\n",
    "    elif (df[c].isnull().sum() / len(df)) > .05:\n",
    "        print(\"Drop :\", c)"
   ]
  },
  {
   "cell_type": "code",
   "execution_count": 13,
   "metadata": {},
   "outputs": [
    {
     "name": "stdout",
     "output_type": "stream",
     "text": [
      "<class 'pandas.core.frame.DataFrame'>\n",
      "RangeIndex: 48842 entries, 0 to 48841\n",
      "Data columns (total 15 columns):\n",
      " #   Column          Non-Null Count  Dtype \n",
      "---  ------          --------------  ----- \n",
      " 0   age             48842 non-null  int64 \n",
      " 1   workclass       48842 non-null  object\n",
      " 2   fnlwgt          48842 non-null  int64 \n",
      " 3   education       48842 non-null  object\n",
      " 4   education-num   48842 non-null  int64 \n",
      " 5   marital-status  48842 non-null  object\n",
      " 6   occupation      48842 non-null  object\n",
      " 7   relationship    48842 non-null  object\n",
      " 8   race            48842 non-null  object\n",
      " 9   sex             48842 non-null  object\n",
      " 10  capital-gain    48842 non-null  int64 \n",
      " 11  capital-loss    48842 non-null  int64 \n",
      " 12  hours-per-week  48842 non-null  int64 \n",
      " 13  native-country  48842 non-null  object\n",
      " 14  income          48842 non-null  object\n",
      "dtypes: int64(6), object(9)\n",
      "memory usage: 5.6+ MB\n",
      "None\n"
     ]
    }
   ],
   "source": [
    "print(df.info())"
   ]
  },
  {
   "cell_type": "markdown",
   "metadata": {},
   "source": [
    "After data cleaning, we now have no null values and 13 features with the same number of rows. "
   ]
  },
  {
   "cell_type": "markdown",
   "metadata": {},
   "source": [
    "### Data Visualization\n",
    "Lets take a deeper dive into the categorical data and visualize them"
   ]
  },
  {
   "cell_type": "markdown",
   "metadata": {},
   "source": [
    "#### workclass"
   ]
  },
  {
   "cell_type": "code",
   "execution_count": 14,
   "metadata": {},
   "outputs": [
    {
     "data": {
      "text/plain": [
       "<Axes: ylabel='workclass'>"
      ]
     },
     "execution_count": 14,
     "metadata": {},
     "output_type": "execute_result"
    },
    {
     "data": {
      "image/png": "[encoded data removed]",
      "text/plain": [
       "<Figure size 640x480 with 1 Axes>"
      ]
     },
     "metadata": {},
     "output_type": "display_data"
    }
   ],
   "source": [
    "df['workclass'].value_counts().plot(kind='barh')"
   ]
  },
  {
   "cell_type": "code",
   "execution_count": 15,
   "metadata": {},
   "outputs": [
    {
     "data": {
      "text/html": [
       "<div>\n",
       "<style scoped>\n",
       "    .dataframe tbody tr th:only-of-type {\n",
       "        vertical-align: middle;\n",
       "    }\n",
       "\n",
       "    .dataframe tbody tr th {\n",
       "        vertical-align: top;\n",
       "    }\n",
       "\n",
       "    .dataframe thead th {\n",
       "        text-align: right;\n",
       "    }\n",
       "</style>\n",
       "<table border=\"1\" class=\"dataframe\">\n",
       "  <thead>\n",
       "    <tr style=\"text-align: right;\">\n",
       "      <th>income</th>\n",
       "      <th>&lt;=50K</th>\n",
       "      <th>&gt;50K</th>\n",
       "    </tr>\n",
       "    <tr>\n",
       "      <th>workclass</th>\n",
       "      <th></th>\n",
       "      <th></th>\n",
       "    </tr>\n",
       "  </thead>\n",
       "  <tbody>\n",
       "    <tr>\n",
       "      <th>?</th>\n",
       "      <td>1645.0</td>\n",
       "      <td>191.0</td>\n",
       "    </tr>\n",
       "    <tr>\n",
       "      <th>Federal-gov</th>\n",
       "      <td>871.0</td>\n",
       "      <td>561.0</td>\n",
       "    </tr>\n",
       "    <tr>\n",
       "      <th>Local-gov</th>\n",
       "      <td>2209.0</td>\n",
       "      <td>927.0</td>\n",
       "    </tr>\n",
       "    <tr>\n",
       "      <th>Never-worked</th>\n",
       "      <td>10.0</td>\n",
       "      <td>NaN</td>\n",
       "    </tr>\n",
       "    <tr>\n",
       "      <th>Private</th>\n",
       "      <td>27408.0</td>\n",
       "      <td>7461.0</td>\n",
       "    </tr>\n",
       "    <tr>\n",
       "      <th>Self-emp-inc</th>\n",
       "      <td>757.0</td>\n",
       "      <td>938.0</td>\n",
       "    </tr>\n",
       "    <tr>\n",
       "      <th>Self-emp-not-inc</th>\n",
       "      <td>2785.0</td>\n",
       "      <td>1077.0</td>\n",
       "    </tr>\n",
       "    <tr>\n",
       "      <th>State-gov</th>\n",
       "      <td>1451.0</td>\n",
       "      <td>530.0</td>\n",
       "    </tr>\n",
       "    <tr>\n",
       "      <th>Without-pay</th>\n",
       "      <td>19.0</td>\n",
       "      <td>2.0</td>\n",
       "    </tr>\n",
       "  </tbody>\n",
       "</table>\n",
       "</div>"
      ],
      "text/plain": [
       "income              <=50K    >50K\n",
       "workclass                        \n",
       "?                  1645.0   191.0\n",
       "Federal-gov         871.0   561.0\n",
       "Local-gov          2209.0   927.0\n",
       "Never-worked         10.0     NaN\n",
       "Private           27408.0  7461.0\n",
       "Self-emp-inc        757.0   938.0\n",
       "Self-emp-not-inc   2785.0  1077.0\n",
       "State-gov          1451.0   530.0\n",
       "Without-pay          19.0     2.0"
      ]
     },
     "execution_count": 15,
     "metadata": {},
     "output_type": "execute_result"
    }
   ],
   "source": [
    "workclass = df.groupby(['workclass', 'income']).size().unstack()\n",
    "workclass"
   ]
  },
  {
   "cell_type": "markdown",
   "metadata": {},
   "source": [
    "From this we can see that self-emp-inc is an important factor, where there are more people >50k than <=50k. "
   ]
  },
  {
   "cell_type": "markdown",
   "metadata": {},
   "source": [
    "#### education"
   ]
  },
  {
   "cell_type": "code",
   "execution_count": 16,
   "metadata": {},
   "outputs": [
    {
     "data": {
      "text/plain": [
       "<Axes: ylabel='education'>"
      ]
     },
     "execution_count": 16,
     "metadata": {},
     "output_type": "execute_result"
    },
    {
     "data": {
      "image/png": "[encoded data removed]",
      "text/plain": [
       "<Figure size 640x480 with 1 Axes>"
      ]
     },
     "metadata": {},
     "output_type": "display_data"
    }
   ],
   "source": [
    "df['education'].value_counts().plot(kind='barh')"
   ]
  },
  {
   "cell_type": "code",
   "execution_count": 17,
   "metadata": {},
   "outputs": [
    {
     "data": {
      "text/html": [
       "<div>\n",
       "<style scoped>\n",
       "    .dataframe tbody tr th:only-of-type {\n",
       "        vertical-align: middle;\n",
       "    }\n",
       "\n",
       "    .dataframe tbody tr th {\n",
       "        vertical-align: top;\n",
       "    }\n",
       "\n",
       "    .dataframe thead th {\n",
       "        text-align: right;\n",
       "    }\n",
       "</style>\n",
       "<table border=\"1\" class=\"dataframe\">\n",
       "  <thead>\n",
       "    <tr style=\"text-align: right;\">\n",
       "      <th>income</th>\n",
       "      <th>&lt;=50K</th>\n",
       "      <th>&gt;50K</th>\n",
       "    </tr>\n",
       "    <tr>\n",
       "      <th>education</th>\n",
       "      <th></th>\n",
       "      <th></th>\n",
       "    </tr>\n",
       "  </thead>\n",
       "  <tbody>\n",
       "    <tr>\n",
       "      <th>10th</th>\n",
       "      <td>1302</td>\n",
       "      <td>87</td>\n",
       "    </tr>\n",
       "    <tr>\n",
       "      <th>11th</th>\n",
       "      <td>1720</td>\n",
       "      <td>92</td>\n",
       "    </tr>\n",
       "    <tr>\n",
       "      <th>12th</th>\n",
       "      <td>609</td>\n",
       "      <td>48</td>\n",
       "    </tr>\n",
       "    <tr>\n",
       "      <th>1st-4th</th>\n",
       "      <td>239</td>\n",
       "      <td>8</td>\n",
       "    </tr>\n",
       "    <tr>\n",
       "      <th>5th-6th</th>\n",
       "      <td>482</td>\n",
       "      <td>27</td>\n",
       "    </tr>\n",
       "    <tr>\n",
       "      <th>7th-8th</th>\n",
       "      <td>893</td>\n",
       "      <td>62</td>\n",
       "    </tr>\n",
       "    <tr>\n",
       "      <th>9th</th>\n",
       "      <td>715</td>\n",
       "      <td>41</td>\n",
       "    </tr>\n",
       "    <tr>\n",
       "      <th>Assoc-acdm</th>\n",
       "      <td>1188</td>\n",
       "      <td>413</td>\n",
       "    </tr>\n",
       "    <tr>\n",
       "      <th>Assoc-voc</th>\n",
       "      <td>1539</td>\n",
       "      <td>522</td>\n",
       "    </tr>\n",
       "    <tr>\n",
       "      <th>Bachelors</th>\n",
       "      <td>4712</td>\n",
       "      <td>3313</td>\n",
       "    </tr>\n",
       "    <tr>\n",
       "      <th>Doctorate</th>\n",
       "      <td>163</td>\n",
       "      <td>431</td>\n",
       "    </tr>\n",
       "    <tr>\n",
       "      <th>HS-grad</th>\n",
       "      <td>13281</td>\n",
       "      <td>2503</td>\n",
       "    </tr>\n",
       "    <tr>\n",
       "      <th>Masters</th>\n",
       "      <td>1198</td>\n",
       "      <td>1459</td>\n",
       "    </tr>\n",
       "    <tr>\n",
       "      <th>Preschool</th>\n",
       "      <td>82</td>\n",
       "      <td>1</td>\n",
       "    </tr>\n",
       "    <tr>\n",
       "      <th>Prof-school</th>\n",
       "      <td>217</td>\n",
       "      <td>617</td>\n",
       "    </tr>\n",
       "    <tr>\n",
       "      <th>Some-college</th>\n",
       "      <td>8815</td>\n",
       "      <td>2063</td>\n",
       "    </tr>\n",
       "  </tbody>\n",
       "</table>\n",
       "</div>"
      ],
      "text/plain": [
       "income        <=50K  >50K\n",
       "education                \n",
       "10th           1302    87\n",
       "11th           1720    92\n",
       "12th            609    48\n",
       "1st-4th         239     8\n",
       "5th-6th         482    27\n",
       "7th-8th         893    62\n",
       "9th             715    41\n",
       "Assoc-acdm     1188   413\n",
       "Assoc-voc      1539   522\n",
       "Bachelors      4712  3313\n",
       "Doctorate       163   431\n",
       "HS-grad       13281  2503\n",
       "Masters        1198  1459\n",
       "Preschool        82     1\n",
       "Prof-school     217   617\n",
       "Some-college   8815  2063"
      ]
     },
     "execution_count": 17,
     "metadata": {},
     "output_type": "execute_result"
    }
   ],
   "source": [
    "weather = df.groupby(['education', 'income']).size().unstack()\n",
    "weather"
   ]
  },
  {
   "cell_type": "markdown",
   "metadata": {},
   "source": [
    "More educated people have higher income."
   ]
  },
  {
   "cell_type": "markdown",
   "metadata": {},
   "source": [
    "# 2. Categorical string to int\n",
    "We need to change all string categorical data into integer. I utilized the LabelEncoder function in sklearn to do this instead of manually mapping each instance to a value."
   ]
  },
  {
   "cell_type": "code",
   "execution_count": 18,
   "metadata": {
    "scrolled": true
   },
   "outputs": [
    {
     "name": "stdout",
     "output_type": "stream",
     "text": [
      "Column: workclass \n",
      "  String categories: ['State-gov' 'Self-emp-not-inc' 'Private' 'Federal-gov' 'Local-gov' '?'\n",
      " 'Self-emp-inc' 'Without-pay' 'Never-worked']\n",
      "  Int categories: [7 6 4 1 2 0 5 8 3]\n",
      "Column: education \n",
      "  String categories: ['Bachelors' 'HS-grad' '11th' 'Masters' '9th' 'Some-college' 'Assoc-acdm'\n",
      " 'Assoc-voc' '7th-8th' 'Doctorate' 'Prof-school' '5th-6th' '10th'\n",
      " '1st-4th' 'Preschool' '12th']\n",
      "  Int categories: [ 9 11  1 12  6 15  7  8  5 10 14  4  0  3 13  2]\n",
      "Column: marital-status \n",
      "  String categories: ['Never-married' 'Married-civ-spouse' 'Divorced' 'Married-spouse-absent'\n",
      " 'Separated' 'Married-AF-spouse' 'Widowed']\n",
      "  Int categories: [4 2 0 3 5 1 6]\n",
      "Column: occupation \n",
      "  String categories: ['Adm-clerical' 'Exec-managerial' 'Handlers-cleaners' 'Prof-specialty'\n",
      " 'Other-service' 'Sales' 'Craft-repair' 'Transport-moving'\n",
      " 'Farming-fishing' 'Machine-op-inspct' 'Tech-support' '?'\n",
      " 'Protective-serv' 'Armed-Forces' 'Priv-house-serv']\n",
      "  Int categories: [ 1  4  6 10  8 12  3 14  5  7 13  0 11  2  9]\n",
      "Column: relationship \n",
      "  String categories: ['Not-in-family' 'Husband' 'Wife' 'Own-child' 'Unmarried' 'Other-relative']\n",
      "  Int categories: [1 0 5 3 4 2]\n",
      "Column: race \n",
      "  String categories: ['White' 'Black' 'Asian-Pac-Islander' 'Amer-Indian-Eskimo' 'Other']\n",
      "  Int categories: [4 2 1 0 3]\n",
      "Column: sex \n",
      "  String categories: ['Male' 'Female']\n",
      "  Int categories: [1 0]\n",
      "Column: native-country \n",
      "  String categories: ['United-States' 'Cuba' 'Jamaica' 'India' '?' 'Mexico' 'South'\n",
      " 'Puerto-Rico' 'Honduras' 'England' 'Canada' 'Germany' 'Iran'\n",
      " 'Philippines' 'Italy' 'Poland' 'Columbia' 'Cambodia' 'Thailand' 'Ecuador'\n",
      " 'Laos' 'Taiwan' 'Haiti' 'Portugal' 'Dominican-Republic' 'El-Salvador'\n",
      " 'France' 'Guatemala' 'China' 'Japan' 'Yugoslavia' 'Peru'\n",
      " 'Outlying-US(Guam-USVI-etc)' 'Scotland' 'Trinadad&Tobago' 'Greece'\n",
      " 'Nicaragua' 'Vietnam' 'Hong' 'Ireland' 'Hungary' 'Holand-Netherlands']\n",
      "  Int categories: [39  5 23 19  0 26 35 33 16  9  2 11 20 30 22 31  4  1 37  7 25 36 14 32\n",
      "  6  8 10 13  3 24 41 29 28 34 38 12 27 40 17 21 18 15]\n",
      "Column: income \n",
      "  String categories: ['<=50K' '>50K']\n",
      "  Int categories: [0 1]\n"
     ]
    }
   ],
   "source": [
    "dtypes = df.dtypes #Data Types for each column\n",
    "columns = df.columns # Columns in dataframe\n",
    "for x in columns:\n",
    "    if dtypes[x] == object: #If the values are not continous\n",
    "        print(\"Column:\",x, '\\n', \" String categories:\",df[x].unique()) #Print old string categories\n",
    "        le = preprocessing.LabelEncoder() #Init LabelEncoder\n",
    "        le.fit(df[x].unique()) #Fit it with the unique values in the dataframe column\n",
    "        df[x] = le.transform(df[x]) #Transform them into their integer values\n",
    "        print( \"  Int categories:\",df[x].unique()) #Print new values"
   ]
  },
  {
   "cell_type": "code",
   "execution_count": 19,
   "metadata": {},
   "outputs": [
    {
     "name": "stdout",
     "output_type": "stream",
     "text": [
      "<class 'pandas.core.frame.DataFrame'>\n",
      "RangeIndex: 48842 entries, 0 to 48841\n",
      "Data columns (total 15 columns):\n",
      " #   Column          Non-Null Count  Dtype\n",
      "---  ------          --------------  -----\n",
      " 0   age             48842 non-null  int64\n",
      " 1   workclass       48842 non-null  int32\n",
      " 2   fnlwgt          48842 non-null  int64\n",
      " 3   education       48842 non-null  int32\n",
      " 4   education-num   48842 non-null  int64\n",
      " 5   marital-status  48842 non-null  int32\n",
      " 6   occupation      48842 non-null  int32\n",
      " 7   relationship    48842 non-null  int32\n",
      " 8   race            48842 non-null  int32\n",
      " 9   sex             48842 non-null  int32\n",
      " 10  capital-gain    48842 non-null  int64\n",
      " 11  capital-loss    48842 non-null  int64\n",
      " 12  hours-per-week  48842 non-null  int64\n",
      " 13  native-country  48842 non-null  int32\n",
      " 14  income          48842 non-null  int32\n",
      "dtypes: int32(9), int64(6)\n",
      "memory usage: 3.9 MB\n",
      "None\n"
     ]
    }
   ],
   "source": [
    "print(df.info())"
   ]
  },
  {
   "cell_type": "markdown",
   "metadata": {},
   "source": [
    "Now we have all our columns in numerical form with both continous and categorical data. "
   ]
  },
  {
   "cell_type": "markdown",
   "metadata": {},
   "source": [
    "# 3. Data Correlation\n",
    "Lets test the correlation between the data and find the most correlated feature to our result"
   ]
  },
  {
   "cell_type": "code",
   "execution_count": 20,
   "metadata": {},
   "outputs": [
    {
     "data": {
      "text/plain": [
       "<Axes: >"
      ]
     },
     "execution_count": 20,
     "metadata": {},
     "output_type": "execute_result"
    },
    {
     "data": {
      "image/png": "[encoded data removed]",
      "text/plain": [
       "<Figure size 640x480 with 2 Axes>"
      ]
     },
     "metadata": {},
     "output_type": "display_data"
    }
   ],
   "source": [
    "sns.heatmap(df.corr()) #Heatmap for correlations in dataframe"
   ]
  },
  {
   "cell_type": "code",
   "execution_count": 21,
   "metadata": {},
   "outputs": [
    {
     "name": "stdout",
     "output_type": "stream",
     "text": [
      "income            1.000000\n",
      "education-num     0.332613\n",
      "age               0.230369\n",
      "hours-per-week    0.227687\n",
      "capital-gain      0.223013\n",
      "sex               0.214628\n",
      "capital-loss      0.147554\n",
      "education         0.080091\n",
      "race              0.070934\n",
      "occupation        0.060018\n",
      "workclass         0.034697\n",
      "native-country    0.015230\n",
      "fnlwgt           -0.006339\n",
      "marital-status   -0.199072\n",
      "relationship     -0.253214\n",
      "Name: income, dtype: float64\n"
     ]
    }
   ],
   "source": [
    "#Y is the last column/row in the correlation above, we can quantify it below:\n",
    "correlation = df.corr()['income']\n",
    "print(correlation.sort_values(ascending=False))"
   ]
  },
  {
   "cell_type": "markdown",
   "metadata": {},
   "source": [
    "Even the most correlated feature is not correlated enough to utilize a Linear model, but lets test it with some of the features:"
   ]
  },
  {
   "cell_type": "code",
   "execution_count": 22,
   "metadata": {},
   "outputs": [
    {
     "name": "stdout",
     "output_type": "stream",
     "text": [
      "                            OLS Regression Results                            \n",
      "==============================================================================\n",
      "Dep. Variable:                 income   R-squared:                       0.070\n",
      "Model:                            OLS   Adj. R-squared:                  0.070\n",
      "Method:                 Least Squares   F-statistic:                     1841.\n",
      "Date:                Fri, 14 Feb 2025   Prob (F-statistic):               0.00\n",
      "Time:                        12:10:45   Log-Likelihood:                -25925.\n",
      "No. Observations:               48842   AIC:                         5.186e+04\n",
      "Df Residuals:                   48839   BIC:                         5.188e+04\n",
      "Df Model:                           2                                         \n",
      "Covariance Type:            nonrobust                                         \n",
      "================================================================================\n",
      "                   coef    std err          t      P>|t|      [0.025      0.975]\n",
      "--------------------------------------------------------------------------------\n",
      "Intercept        0.2486      0.006     44.727      0.000       0.238       0.260\n",
      "education        0.0085      0.000     17.731      0.000       0.008       0.009\n",
      "relationship    -0.0672      0.001    -57.836      0.000      -0.069      -0.065\n",
      "==============================================================================\n",
      "Omnibus:                     7256.201   Durbin-Watson:                   2.005\n",
      "Prob(Omnibus):                  0.000   Jarque-Bera (JB):            10356.650\n",
      "Skew:                           1.110   Prob(JB):                         0.00\n",
      "Kurtosis:                       2.601   Cond. No.                         33.4\n",
      "==============================================================================\n",
      "\n",
      "Notes:\n",
      "[1] Standard Errors assume that the covariance matrix of the errors is correctly specified.\n"
     ]
    }
   ],
   "source": [
    "model = smf.ols(formula='income ~ education- + age + relationship ', data=df)\n",
    " \n",
    "res = model.fit() #update this value according to the result\n",
    "print(res.summary())"
   ]
  },
  {
   "cell_type": "markdown",
   "metadata": {},
   "source": [
    "Above is a Linear Model for testing the highest correlated features, even then we don't have enough to predict future values based solely on `education`, `age`, and `relationship`. So we need to use Decision Tree Classifier to have the best use of all features."
   ]
  },
  {
   "cell_type": "markdown",
   "metadata": {},
   "source": [
    "# 4. Decision Tree Classifier"
   ]
  },
  {
   "cell_type": "markdown",
   "metadata": {},
   "source": [
    "First, we move the features and the result into x and y respectively"
   ]
  },
  {
   "cell_type": "code",
   "execution_count": 23,
   "metadata": {},
   "outputs": [
    {
     "name": "stdout",
     "output_type": "stream",
     "text": [
      "<class 'pandas.core.frame.DataFrame'>\n",
      "RangeIndex: 48842 entries, 0 to 48841\n",
      "Data columns (total 14 columns):\n",
      " #   Column          Non-Null Count  Dtype\n",
      "---  ------          --------------  -----\n",
      " 0   age             48842 non-null  int64\n",
      " 1   workclass       48842 non-null  int32\n",
      " 2   fnlwgt          48842 non-null  int64\n",
      " 3   education       48842 non-null  int32\n",
      " 4   education-num   48842 non-null  int64\n",
      " 5   marital-status  48842 non-null  int32\n",
      " 6   occupation      48842 non-null  int32\n",
      " 7   relationship    48842 non-null  int32\n",
      " 8   race            48842 non-null  int32\n",
      " 9   sex             48842 non-null  int32\n",
      " 10  capital-gain    48842 non-null  int64\n",
      " 11  capital-loss    48842 non-null  int64\n",
      " 12  hours-per-week  48842 non-null  int64\n",
      " 13  native-country  48842 non-null  int32\n",
      "dtypes: int32(8), int64(6)\n",
      "memory usage: 3.7 MB\n",
      "None\n"
     ]
    }
   ],
   "source": [
    "#Split data into parameters and result \n",
    "x = df.drop(columns='income').copy()\n",
    "y = df[['income']].copy()\n",
    "\n",
    "print(x.info())\n",
    "# print(y.info())"
   ]
  },
  {
   "cell_type": "markdown",
   "metadata": {},
   "source": [
    "Then we provide a 80/20 split for trainging and testing data"
   ]
  },
  {
   "cell_type": "code",
   "execution_count": 24,
   "metadata": {},
   "outputs": [],
   "source": [
    "#Split data into training and testing \n",
    "x_train, x_test, y_train, y_test = train_test_split(x, y, train_size=0.8)\n"
   ]
  },
  {
   "cell_type": "code",
   "execution_count": 25,
   "metadata": {},
   "outputs": [
    {
     "data": {
      "text/html": [
       "<div>\n",
       "<style scoped>\n",
       "    .dataframe tbody tr th:only-of-type {\n",
       "        vertical-align: middle;\n",
       "    }\n",
       "\n",
       "    .dataframe tbody tr th {\n",
       "        vertical-align: top;\n",
       "    }\n",
       "\n",
       "    .dataframe thead th {\n",
       "        text-align: right;\n",
       "    }\n",
       "</style>\n",
       "<table border=\"1\" class=\"dataframe\">\n",
       "  <thead>\n",
       "    <tr style=\"text-align: right;\">\n",
       "      <th></th>\n",
       "      <th>age</th>\n",
       "      <th>workclass</th>\n",
       "      <th>fnlwgt</th>\n",
       "      <th>education</th>\n",
       "      <th>education-num</th>\n",
       "      <th>marital-status</th>\n",
       "      <th>occupation</th>\n",
       "      <th>relationship</th>\n",
       "      <th>race</th>\n",
       "      <th>sex</th>\n",
       "      <th>capital-gain</th>\n",
       "      <th>capital-loss</th>\n",
       "      <th>hours-per-week</th>\n",
       "      <th>native-country</th>\n",
       "    </tr>\n",
       "  </thead>\n",
       "  <tbody>\n",
       "    <tr>\n",
       "      <th>21473</th>\n",
       "      <td>74</td>\n",
       "      <td>6</td>\n",
       "      <td>173929</td>\n",
       "      <td>10</td>\n",
       "      <td>16</td>\n",
       "      <td>3</td>\n",
       "      <td>10</td>\n",
       "      <td>1</td>\n",
       "      <td>4</td>\n",
       "      <td>1</td>\n",
       "      <td>0</td>\n",
       "      <td>0</td>\n",
       "      <td>25</td>\n",
       "      <td>39</td>\n",
       "    </tr>\n",
       "    <tr>\n",
       "      <th>36561</th>\n",
       "      <td>31</td>\n",
       "      <td>7</td>\n",
       "      <td>227864</td>\n",
       "      <td>11</td>\n",
       "      <td>9</td>\n",
       "      <td>2</td>\n",
       "      <td>3</td>\n",
       "      <td>0</td>\n",
       "      <td>2</td>\n",
       "      <td>1</td>\n",
       "      <td>0</td>\n",
       "      <td>0</td>\n",
       "      <td>40</td>\n",
       "      <td>39</td>\n",
       "    </tr>\n",
       "    <tr>\n",
       "      <th>37425</th>\n",
       "      <td>54</td>\n",
       "      <td>4</td>\n",
       "      <td>64421</td>\n",
       "      <td>15</td>\n",
       "      <td>10</td>\n",
       "      <td>6</td>\n",
       "      <td>13</td>\n",
       "      <td>4</td>\n",
       "      <td>4</td>\n",
       "      <td>0</td>\n",
       "      <td>0</td>\n",
       "      <td>0</td>\n",
       "      <td>40</td>\n",
       "      <td>39</td>\n",
       "    </tr>\n",
       "    <tr>\n",
       "      <th>31688</th>\n",
       "      <td>34</td>\n",
       "      <td>5</td>\n",
       "      <td>343789</td>\n",
       "      <td>9</td>\n",
       "      <td>13</td>\n",
       "      <td>2</td>\n",
       "      <td>4</td>\n",
       "      <td>0</td>\n",
       "      <td>4</td>\n",
       "      <td>1</td>\n",
       "      <td>7688</td>\n",
       "      <td>0</td>\n",
       "      <td>55</td>\n",
       "      <td>39</td>\n",
       "    </tr>\n",
       "    <tr>\n",
       "      <th>45167</th>\n",
       "      <td>40</td>\n",
       "      <td>4</td>\n",
       "      <td>110009</td>\n",
       "      <td>0</td>\n",
       "      <td>6</td>\n",
       "      <td>2</td>\n",
       "      <td>7</td>\n",
       "      <td>0</td>\n",
       "      <td>4</td>\n",
       "      <td>1</td>\n",
       "      <td>0</td>\n",
       "      <td>0</td>\n",
       "      <td>40</td>\n",
       "      <td>39</td>\n",
       "    </tr>\n",
       "    <tr>\n",
       "      <th>...</th>\n",
       "      <td>...</td>\n",
       "      <td>...</td>\n",
       "      <td>...</td>\n",
       "      <td>...</td>\n",
       "      <td>...</td>\n",
       "      <td>...</td>\n",
       "      <td>...</td>\n",
       "      <td>...</td>\n",
       "      <td>...</td>\n",
       "      <td>...</td>\n",
       "      <td>...</td>\n",
       "      <td>...</td>\n",
       "      <td>...</td>\n",
       "      <td>...</td>\n",
       "    </tr>\n",
       "    <tr>\n",
       "      <th>2856</th>\n",
       "      <td>46</td>\n",
       "      <td>0</td>\n",
       "      <td>162034</td>\n",
       "      <td>11</td>\n",
       "      <td>9</td>\n",
       "      <td>2</td>\n",
       "      <td>0</td>\n",
       "      <td>0</td>\n",
       "      <td>4</td>\n",
       "      <td>1</td>\n",
       "      <td>0</td>\n",
       "      <td>0</td>\n",
       "      <td>40</td>\n",
       "      <td>39</td>\n",
       "    </tr>\n",
       "    <tr>\n",
       "      <th>37627</th>\n",
       "      <td>62</td>\n",
       "      <td>4</td>\n",
       "      <td>352156</td>\n",
       "      <td>11</td>\n",
       "      <td>9</td>\n",
       "      <td>2</td>\n",
       "      <td>10</td>\n",
       "      <td>0</td>\n",
       "      <td>4</td>\n",
       "      <td>1</td>\n",
       "      <td>0</td>\n",
       "      <td>0</td>\n",
       "      <td>40</td>\n",
       "      <td>39</td>\n",
       "    </tr>\n",
       "    <tr>\n",
       "      <th>23345</th>\n",
       "      <td>19</td>\n",
       "      <td>4</td>\n",
       "      <td>185097</td>\n",
       "      <td>11</td>\n",
       "      <td>9</td>\n",
       "      <td>4</td>\n",
       "      <td>6</td>\n",
       "      <td>1</td>\n",
       "      <td>4</td>\n",
       "      <td>0</td>\n",
       "      <td>0</td>\n",
       "      <td>0</td>\n",
       "      <td>37</td>\n",
       "      <td>39</td>\n",
       "    </tr>\n",
       "    <tr>\n",
       "      <th>6392</th>\n",
       "      <td>33</td>\n",
       "      <td>7</td>\n",
       "      <td>208785</td>\n",
       "      <td>15</td>\n",
       "      <td>10</td>\n",
       "      <td>5</td>\n",
       "      <td>10</td>\n",
       "      <td>1</td>\n",
       "      <td>4</td>\n",
       "      <td>1</td>\n",
       "      <td>10520</td>\n",
       "      <td>0</td>\n",
       "      <td>40</td>\n",
       "      <td>39</td>\n",
       "    </tr>\n",
       "    <tr>\n",
       "      <th>42439</th>\n",
       "      <td>67</td>\n",
       "      <td>2</td>\n",
       "      <td>31924</td>\n",
       "      <td>15</td>\n",
       "      <td>10</td>\n",
       "      <td>6</td>\n",
       "      <td>8</td>\n",
       "      <td>1</td>\n",
       "      <td>4</td>\n",
       "      <td>0</td>\n",
       "      <td>2964</td>\n",
       "      <td>0</td>\n",
       "      <td>41</td>\n",
       "      <td>39</td>\n",
       "    </tr>\n",
       "  </tbody>\n",
       "</table>\n",
       "<p>39073 rows × 14 columns</p>\n",
       "</div>"
      ],
      "text/plain": [
       "       age  workclass  fnlwgt  education  education-num  marital-status  \\\n",
       "21473   74          6  173929         10             16               3   \n",
       "36561   31          7  227864         11              9               2   \n",
       "37425   54          4   64421         15             10               6   \n",
       "31688   34          5  343789          9             13               2   \n",
       "45167   40          4  110009          0              6               2   \n",
       "...    ...        ...     ...        ...            ...             ...   \n",
       "2856    46          0  162034         11              9               2   \n",
       "37627   62          4  352156         11              9               2   \n",
       "23345   19          4  185097         11              9               4   \n",
       "6392    33          7  208785         15             10               5   \n",
       "42439   67          2   31924         15             10               6   \n",
       "\n",
       "       occupation  relationship  race  sex  capital-gain  capital-loss  \\\n",
       "21473          10             1     4    1             0             0   \n",
       "36561           3             0     2    1             0             0   \n",
       "37425          13             4     4    0             0             0   \n",
       "31688           4             0     4    1          7688             0   \n",
       "45167           7             0     4    1             0             0   \n",
       "...           ...           ...   ...  ...           ...           ...   \n",
       "2856            0             0     4    1             0             0   \n",
       "37627          10             0     4    1             0             0   \n",
       "23345           6             1     4    0             0             0   \n",
       "6392           10             1     4    1         10520             0   \n",
       "42439           8             1     4    0          2964             0   \n",
       "\n",
       "       hours-per-week  native-country  \n",
       "21473              25              39  \n",
       "36561              40              39  \n",
       "37425              40              39  \n",
       "31688              55              39  \n",
       "45167              40              39  \n",
       "...               ...             ...  \n",
       "2856               40              39  \n",
       "37627              40              39  \n",
       "23345              37              39  \n",
       "6392               40              39  \n",
       "42439              41              39  \n",
       "\n",
       "[39073 rows x 14 columns]"
      ]
     },
     "execution_count": 25,
     "metadata": {},
     "output_type": "execute_result"
    }
   ],
   "source": [
    "x_train"
   ]
  },
  {
   "cell_type": "markdown",
   "metadata": {},
   "source": [
    "With the data ready, we can then run random parameters on the DTC and view the accuracy score"
   ]
  },
  {
   "cell_type": "code",
   "execution_count": 26,
   "metadata": {},
   "outputs": [
    {
     "name": "stdout",
     "output_type": "stream",
     "text": [
      "Accuracy Score for initial DTC: 0.8598628314054663\n"
     ]
    }
   ],
   "source": [
    "#Decision Tree Classifier with random initial parameters \n",
    "classifier = DecisionTreeClassifier(max_depth=10, random_state=14)\n",
    "classifier.fit(x_train, y_train)\n",
    "pred = classifier.predict(x_test)\n",
    "acc_score = accuracy_score(y_true=y_test, y_pred = pred)\n",
    "\n",
    "print(\"Accuracy Score for initial DTC:\", acc_score)"
   ]
  },
  {
   "cell_type": "markdown",
   "metadata": {},
   "source": [
    "##### An accuracy score of 85% is nice for random initial values but we can get a better score by modifying our parameters, we can run GridSearchCV to search for the best values to give us the best Accuracy of the model"
   ]
  },
  {
   "cell_type": "code",
   "execution_count": 27,
   "metadata": {},
   "outputs": [
    {
     "name": "stdout",
     "output_type": "stream",
     "text": [
      "Best Estimator values: DecisionTreeClassifier(max_depth=8, max_leaf_nodes=50)\n",
      "Best Score: 0.8554758499803737\n"
     ]
    }
   ],
   "source": [
    "parameters = {'max_depth' : np.arange(3,10),\n",
    "             'criterion': ['gini', 'entropy'],\n",
    "              'max_leaf_nodes' : [5,10,15,20,50,100],\n",
    "              'min_samples_split' : [2,4,5,10,15,20]\n",
    "             }\n",
    "grid_search_tree = GridSearchCV(DecisionTreeClassifier(), parameters, scoring=\"accuracy\")\n",
    "\n",
    "grid_search_tree.fit(x_train, y_train)\n",
    "\n",
    "print(\"Best Estimator values:\", grid_search_tree.best_estimator_)\n",
    "\n",
    "print('Best Score:', np.abs(grid_search_tree.best_score_))"
   ]
  },
  {
   "cell_type": "markdown",
   "metadata": {},
   "source": [
    "With the best parameters provided to us above, we can then use that model to predict the test data and get the accuracy score"
   ]
  },
  {
   "cell_type": "code",
   "execution_count": 28,
   "metadata": {},
   "outputs": [
    {
     "name": "stdout",
     "output_type": "stream",
     "text": [
      "Accuracy Score Optimized Parameters: 0.8582249974408844\n",
      "F1 Score Optimized Parameters: 0.6776821037933441\n"
     ]
    }
   ],
   "source": [
    "#Testing the best scoring parameters from above with test value:\n",
    "\n",
    "classifier = DecisionTreeClassifier(ccp_alpha=0.0, class_weight=None, criterion='gini',\n",
    "                       max_depth=9, max_features=None, max_leaf_nodes=100,\n",
    "                       min_impurity_decrease=0.0, # min_impurity_split=None,\n",
    "                       min_samples_leaf=1, min_samples_split=15,\n",
    "                       min_weight_fraction_leaf=0.0, # presort='deprecated',\n",
    "                       random_state=None, splitter='best')\n",
    "\n",
    "classifier.fit(x_train, y_train)\n",
    "pred = classifier.predict(x_test)\n",
    "acc_score = accuracy_score(y_true=y_test, y_pred = pred)\n",
    "f_score = f1_score(y_true=y_test, y_pred=pred)\n",
    "print(\"Accuracy Score Optimized Parameters:\", acc_score)\n",
    "print(\"F1 Score Optimized Parameters:\", f_score)\n"
   ]
  },
  {
   "cell_type": "markdown",
   "metadata": {},
   "source": [
    "With the test data we get around the same accuracy score, now lets look at the most important features below:"
   ]
  },
  {
   "cell_type": "code",
   "execution_count": 29,
   "metadata": {},
   "outputs": [
    {
     "name": "stdout",
     "output_type": "stream",
     "text": [
      "          features     score\n",
      "7     relationship  0.406673\n",
      "10    capital-gain  0.215282\n",
      "4    education-num  0.211077\n",
      "11    capital-loss  0.067775\n",
      "0              age  0.038712\n",
      "12  hours-per-week  0.034245\n",
      "6       occupation  0.008897\n",
      "1        workclass  0.006516\n",
      "2           fnlwgt  0.003970\n",
      "13  native-country  0.002754\n",
      "3        education  0.002659\n",
      "9              sex  0.001439\n",
      "5   marital-status  0.000000\n",
      "8             race  0.000000\n"
     ]
    }
   ],
   "source": [
    "#Feature importance\n",
    "features = x.columns\n",
    "scores = classifier.feature_importances_.tolist()\n",
    "res = pd.DataFrame({'features' : features, 'score': scores})\n",
    "res = res.sort_values(by=['score'], ascending=False)\n",
    "print(res)"
   ]
  },
  {
   "cell_type": "markdown",
   "metadata": {},
   "source": [
    "We can see how our models accuracy will be if we choose the top 1, 2, 3 features provided above. "
   ]
  },
  {
   "cell_type": "code",
   "execution_count": 30,
   "metadata": {},
   "outputs": [
    {
     "name": "stdout",
     "output_type": "stream",
     "text": [
      "With the top (1) feature, accuracy score =  0.7630258982495649\n",
      "With the top (2) features, accuracy score =  0.8203500870099294\n",
      "With the top (3) features, accuracy score =  0.8495240045040434\n"
     ]
    }
   ],
   "source": [
    "#models with top 1, 2, & 3 features\n",
    "top_1 = df[['relationship']].copy()\n",
    "top_2 = df[['relationship', 'education-num']].copy()\n",
    "top_3 = df[['relationship', 'education-num', 'capital-gain']].copy()\n",
    "\n",
    "x_train_1, x_test_1, y_train_1, y_test_1 = train_test_split(top_1,y, test_size=.2)\n",
    "x_train_2, x_test_2, y_train_2, y_test_2 = train_test_split(top_2,y, test_size=.2)\n",
    "x_train_3, x_test_3, y_train_3, y_test_3 = train_test_split(top_3,y, test_size=.2)\n",
    "\n",
    "classifier.fit(x_train_1, y_train_1)\n",
    "pred1 = classifier.predict(x_test_1)\n",
    "acc_score1 = accuracy_score(y_true=y_test_1, y_pred = pred1)\n",
    "print(\"With the top (1) feature, accuracy score = \", acc_score1)\n",
    "\n",
    "classifier.fit(x_train_2, y_train_2)\n",
    "pred2 = classifier.predict(x_test_2)\n",
    "acc_score2 = accuracy_score(y_true=y_test_2, y_pred = pred2)\n",
    "print(\"With the top (2) features, accuracy score = \", acc_score2)\n",
    "\n",
    "classifier.fit(x_train_3, y_train_3)\n",
    "pred3 = classifier.predict(x_test_3)\n",
    "acc_score3 = accuracy_score(y_true=y_test_3, y_pred = pred3)\n",
    "print(\"With the top (3) features, accuracy score = \", acc_score3)"
   ]
  },
  {
   "cell_type": "markdown",
   "metadata": {},
   "source": [
    "Accuracy fluctuates with the addition of additional parameters. But, there is an increase in accuracy as we add more features."
   ]
  },
  {
   "cell_type": "markdown",
   "metadata": {},
   "source": [
    "## Confusion Matrix \n",
    "For the optimized DTC model we created above, we want to view how we can improve the values of FN and FP. First lets view the amounts for those:"
   ]
  },
  {
   "cell_type": "code",
   "execution_count": 31,
   "metadata": {},
   "outputs": [
    {
     "name": "stdout",
     "output_type": "stream",
     "text": [
      "[[6928  585]\n",
      " [ 800 1456]]\n",
      "TP =  1456\n",
      "FP =  585\n",
      "TN =  6928\n",
      "FN =  800\n"
     ]
    }
   ],
   "source": [
    "#Confusion Matrix\n",
    "cm = sklearn.metrics.confusion_matrix(y_test, pred)\n",
    "print(cm)\n",
    "\n",
    "TP = 0\n",
    "FP = 0\n",
    "TN = 0\n",
    "FN = 0\n",
    "\n",
    "y_true = y_test.values.tolist()\n",
    "pos_label_value = 1\n",
    "for l in range(len(pred)):\n",
    "    predicted = pred[l]\n",
    "    true = y_true[l][0]\n",
    "    if predicted == pos_label_value and true == pos_label_value:\n",
    "        TP += 1\n",
    "    elif predicted == pos_label_value and true != pos_label_value:\n",
    "        FP += 1\n",
    "    elif predicted != pos_label_value and true == pos_label_value:\n",
    "        FN += 1\n",
    "    elif predicted != pos_label_value and true != pos_label_value:\n",
    "        TN += 1\n",
    "print(\"TP = \", TP)\n",
    "print(\"FP = \", FP)\n",
    "print(\"TN = \", TN)\n",
    "print(\"FN = \", FN)"
   ]
  },
  {
   "cell_type": "markdown",
   "metadata": {},
   "source": [
    "To improve those amounts we can change the GridSearchCV scoring to f1 instaed of accuracy to the predictions. This should help us to predict the TP and TN values a bit better. "
   ]
  },
  {
   "cell_type": "code",
   "execution_count": 32,
   "metadata": {},
   "outputs": [
    {
     "name": "stdout",
     "output_type": "stream",
     "text": [
      "Best Estimator values: DecisionTreeClassifier(max_depth=9, max_leaf_nodes=50)\n",
      "Best Score: 0.6678582152085134\n"
     ]
    }
   ],
   "source": [
    "parameters = {'max_depth' : np.arange(3,10),\n",
    "             'criterion': ['gini', 'entropy'],\n",
    "              'max_leaf_nodes' : [5,10,15,20,50,100],\n",
    "              'min_samples_split' : [2,4,5,10,15,20]\n",
    "             }\n",
    "grid_search_tree = GridSearchCV(DecisionTreeClassifier(), parameters, scoring=\"f1\")\n",
    "\n",
    "grid_search_tree.fit(x_train, y_train)\n",
    "\n",
    "print(\"Best Estimator values:\", grid_search_tree.best_estimator_)\n",
    "\n",
    "print('Best Score:', np.abs(grid_search_tree.best_score_))"
   ]
  },
  {
   "cell_type": "code",
   "execution_count": 33,
   "metadata": {},
   "outputs": [
    {
     "name": "stdout",
     "output_type": "stream",
     "text": [
      "Accuracy Score Optimized Parameters: 0.8641621455624936\n",
      "F1 Score Optimized Parameters: 0.6445218323064559\n"
     ]
    }
   ],
   "source": [
    "classifier = DecisionTreeClassifier(ccp_alpha=0.0, class_weight=None, criterion='gini',\n",
    "                       max_depth=7, max_features=None, max_leaf_nodes=50,\n",
    "                       min_impurity_decrease=0.0, # min_impurity_split=None,\n",
    "                       min_samples_leaf=1, min_samples_split=2,\n",
    "                       min_weight_fraction_leaf=0.0, # presort='deprecated',\n",
    "                       random_state=None, splitter='best')\n",
    "\n",
    "classifier.fit(x_train, y_train)\n",
    "pred = classifier.predict(x_test)\n",
    "acc_score = accuracy_score(y_true=y_test, y_pred = pred)\n",
    "f_score = f1_score(y_true=y_test, y_pred=pred)\n",
    "print(\"Accuracy Score Optimized Parameters:\", acc_score)\n",
    "print(\"F1 Score Optimized Parameters:\", f_score)"
   ]
  },
  {
   "cell_type": "code",
   "execution_count": 34,
   "metadata": {},
   "outputs": [
    {
     "name": "stdout",
     "output_type": "stream",
     "text": [
      "          features     score\n",
      "7     relationship  0.426876\n",
      "10    capital-gain  0.224133\n",
      "4    education-num  0.206633\n",
      "11    capital-loss  0.068097\n",
      "0              age  0.034617\n",
      "12  hours-per-week  0.032541\n",
      "6       occupation  0.005042\n",
      "13  native-country  0.001367\n",
      "3        education  0.000694\n",
      "1        workclass  0.000000\n",
      "2           fnlwgt  0.000000\n",
      "5   marital-status  0.000000\n",
      "8             race  0.000000\n",
      "9              sex  0.000000\n"
     ]
    }
   ],
   "source": [
    "features = x_train.columns\n",
    "scores = classifier.feature_importances_.tolist()\n",
    "res = pd.DataFrame({'features' : features, 'score': scores})\n",
    "res = res.sort_values(by=['score'], ascending=False)\n",
    "print(res)"
   ]
  },
  {
   "cell_type": "code",
   "execution_count": 35,
   "metadata": {},
   "outputs": [
    {
     "name": "stdout",
     "output_type": "stream",
     "text": [
      "[[7239  274]\n",
      " [1053 1203]]\n",
      "New TP =  1203\n",
      "New FP =  274\n",
      "New TN =  7239\n",
      "New FN =  1053\n"
     ]
    }
   ],
   "source": [
    "#Confusion Matrix\n",
    "cm = sklearn.metrics.confusion_matrix(y_test, pred)\n",
    "print(cm)\n",
    "\n",
    "TP_new = 0\n",
    "FP_new = 0\n",
    "TN_new = 0\n",
    "FN_new = 0\n",
    "\n",
    "y_true = y_test.values.tolist()\n",
    "pos_label_value = 1\n",
    "for x in range(len(pred)):\n",
    "    predicted = pred[x]\n",
    "    true = y_true[x][0]\n",
    "    if predicted == pos_label_value and true == pos_label_value:\n",
    "        TP_new += 1\n",
    "    elif predicted == pos_label_value and true != pos_label_value:\n",
    "        FP_new += 1\n",
    "    elif predicted != pos_label_value and true == pos_label_value:\n",
    "        FN_new += 1\n",
    "    elif predicted != pos_label_value and true != pos_label_value:\n",
    "        TN_new += 1\n",
    "print(\"New TP = \", TP_new)\n",
    "print(\"New FP = \", FP_new)\n",
    "print(\"New TN = \", TN_new)\n",
    "print(\"New FN = \", FN_new)\n"
   ]
  },
  {
   "cell_type": "markdown",
   "metadata": {},
   "source": [
    "Both False Negatives and true Negatives decreased, while False Positives and True Positives increased. This may be a favorable for this model and dataset as we prefer to include more people into positive to provide them with the ability to accept the coupon despite them being a possible negative as they may be persuaded by further external factors not included in this dataset. "
   ]
  },
  {
   "cell_type": "markdown",
   "metadata": {},
   "source": [
    "### Re-run model on new dataset"
   ]
  },
  {
   "cell_type": "code",
   "execution_count": 37,
   "metadata": {},
   "outputs": [],
   "source": [
    "fe_x = fe_df.drop(columns='income').copy()\n",
    "fe_y = fe_df[['income']].copy()"
   ]
  },
  {
   "cell_type": "code",
   "execution_count": 38,
   "metadata": {},
   "outputs": [],
   "source": [
    "x_train, x_test, y_train, y_test = train_test_split(fe_x, fe_y, train_size=0.8)"
   ]
  },
  {
   "cell_type": "code",
   "execution_count": 39,
   "metadata": {},
   "outputs": [
    {
     "name": "stdout",
     "output_type": "stream",
     "text": [
      "Best Estimator values: DecisionTreeClassifier(criterion='entropy', max_depth=9, max_leaf_nodes=100)\n",
      "Best Score: 0.8563203044030262\n"
     ]
    }
   ],
   "source": [
    "parameters = {'max_depth' : np.arange(3,10),\n",
    "             'criterion': ['gini', 'entropy'],\n",
    "              'max_leaf_nodes' : [5,10,15,20,50,100],\n",
    "              'min_samples_split' : [2,4,5,10,15,20]\n",
    "             }\n",
    "grid_search_tree = GridSearchCV(DecisionTreeClassifier(), parameters, scoring=\"accuracy\")\n",
    "\n",
    "grid_search_tree.fit(x_train, y_train)\n",
    "\n",
    "print(\"Best Estimator values:\", grid_search_tree.best_estimator_)\n",
    "\n",
    "print('Best Score:', np.abs(grid_search_tree.best_score_))"
   ]
  },
  {
   "cell_type": "code",
   "execution_count": 40,
   "metadata": {},
   "outputs": [
    {
     "name": "stdout",
     "output_type": "stream",
     "text": [
      "Accuracy Score Optimized Parameters: 0.8530044016787798\n",
      "F1 Score Optimized Parameters: 0.6707932141219624\n"
     ]
    }
   ],
   "source": [
    "classifier = DecisionTreeClassifier(ccp_alpha=0.0, class_weight=None, criterion='gini',\n",
    "                       max_depth=9, max_features=None, max_leaf_nodes=100,\n",
    "                       min_impurity_decrease=0.0, # min_impurity_split=None,\n",
    "                       min_samples_leaf=1, min_samples_split=2,\n",
    "                       min_weight_fraction_leaf=0.0, # presort='deprecated',\n",
    "                       random_state=None, splitter='best')\n",
    "\n",
    "classifier.fit(x_train, y_train)\n",
    "pred = classifier.predict(x_test)\n",
    "acc_score = accuracy_score(y_true=y_test, y_pred = pred)\n",
    "f_score = f1_score(y_true=y_test, y_pred=pred)\n",
    "print(\"Accuracy Score Optimized Parameters:\", acc_score)\n",
    "print(\"F1 Score Optimized Parameters:\", f_score)"
   ]
  },
  {
   "cell_type": "code",
   "execution_count": 41,
   "metadata": {},
   "outputs": [
    {
     "name": "stdout",
     "output_type": "stream",
     "text": [
      "Feature importance\n",
      "          features     score\n",
      "7     relationship  0.407790\n",
      "10    capital-gain  0.214131\n",
      "4    education-num  0.209131\n",
      "11    capital-loss  0.066361\n",
      "0              age  0.044281\n",
      "12  hours-per-week  0.037646\n",
      "6       occupation  0.005439\n",
      "3        education  0.005191\n",
      "1        workclass  0.004882\n",
      "2           fnlwgt  0.002888\n",
      "13  native-country  0.001194\n",
      "9              sex  0.001067\n",
      "5   marital-status  0.000000\n",
      "8             race  0.000000\n",
      "14       direction  0.000000\n"
     ]
    }
   ],
   "source": [
    "features = x_train.columns\n",
    "scores = classifier.feature_importances_.tolist()\n",
    "res = pd.DataFrame({'features' : features, 'score': scores})\n",
    "res = res.sort_values(by=['score'], ascending=False)\n",
    "print(\"Feature importance\")\n",
    "print(res)"
   ]
  },
  {
   "cell_type": "code",
   "execution_count": 42,
   "metadata": {},
   "outputs": [
    {
     "name": "stdout",
     "output_type": "stream",
     "text": [
      "[[6870  608]\n",
      " [ 828 1463]]\n",
      "With max accuracy we get:\n",
      "FE Acc TP =  1463\n",
      "FE Acc FP =  608\n",
      "FE Acc TN =  6870\n",
      "FE Acc FN =  828\n"
     ]
    }
   ],
   "source": [
    "cm = sklearn.metrics.confusion_matrix(y_test, pred)\n",
    "print(cm)\n",
    "\n",
    "fe_TP = 0\n",
    "fe_FP = 0\n",
    "fe_TN = 0\n",
    "fe_FN = 0\n",
    "\n",
    "y_true = y_test.values.tolist()\n",
    "pos_label_value = 1\n",
    "for x in range(len(pred)):\n",
    "    predicted = pred[x]\n",
    "    true = y_true[x][0]\n",
    "    if predicted == pos_label_value and true == pos_label_value:\n",
    "        fe_TP += 1\n",
    "    elif predicted == pos_label_value and true != pos_label_value:\n",
    "        fe_FP += 1\n",
    "    elif predicted != pos_label_value and true == pos_label_value:\n",
    "        fe_FN += 1\n",
    "    elif predicted != pos_label_value and true != pos_label_value:\n",
    "        fe_TN += 1\n",
    "print(\"With max accuracy we get:\")\n",
    "print(\"FE Acc TP = \", fe_TP)\n",
    "print(\"FE Acc FP = \", fe_FP)\n",
    "print(\"FE Acc TN = \", fe_TN)\n",
    "print(\"FE Acc FN = \", fe_FN)"
   ]
  },
  {
   "cell_type": "code",
   "execution_count": 43,
   "metadata": {},
   "outputs": [
    {
     "name": "stdout",
     "output_type": "stream",
     "text": [
      "Best Estimator values: DecisionTreeClassifier(max_depth=9, max_leaf_nodes=100, min_samples_split=15)\n",
      "Best Score: 0.6818463769245576\n"
     ]
    }
   ],
   "source": [
    "parameters = {'max_depth' : np.arange(3,10),\n",
    "             'criterion': ['gini', 'entropy'],\n",
    "              'max_leaf_nodes' : [5,10,15,20,50,100],\n",
    "              'min_samples_split' : [2,4,5,10,15,20]\n",
    "             }\n",
    "grid_search_tree = GridSearchCV(DecisionTreeClassifier(), parameters, scoring=\"f1\")\n",
    "\n",
    "grid_search_tree.fit(x_train, y_train)\n",
    "\n",
    "print(\"Best Estimator values:\", grid_search_tree.best_estimator_)\n",
    "\n",
    "print('Best Score:', np.abs(grid_search_tree.best_score_))"
   ]
  },
  {
   "cell_type": "code",
   "execution_count": 44,
   "metadata": {},
   "outputs": [
    {
     "name": "stdout",
     "output_type": "stream",
     "text": [
      "Accuracy Score Optimized Parameters: 0.8568942573446617\n",
      "F1 Score Optimized Parameters: 0.6324921135646687\n"
     ]
    }
   ],
   "source": [
    "classifier = DecisionTreeClassifier(ccp_alpha=0.0, class_weight=None, criterion='entropy',\n",
    "                       max_depth=6, max_features=None, max_leaf_nodes=50,\n",
    "                       min_impurity_decrease=0.0, # min_impurity_split=None,\n",
    "                       min_samples_leaf=1, min_samples_split=2,\n",
    "                       min_weight_fraction_leaf=0.0, # presort='deprecated',\n",
    "                       random_state=None, splitter='best')\n",
    "\n",
    "classifier.fit(x_train, y_train)\n",
    "pred = classifier.predict(x_test)\n",
    "acc_score = accuracy_score(y_true=y_test, y_pred = pred)\n",
    "f_score = f1_score(y_true=y_test, y_pred=pred)\n",
    "print(\"Accuracy Score Optimized Parameters:\", acc_score)\n",
    "print(\"F1 Score Optimized Parameters:\", f_score)"
   ]
  },
  {
   "cell_type": "code",
   "execution_count": 45,
   "metadata": {},
   "outputs": [
    {
     "name": "stdout",
     "output_type": "stream",
     "text": [
      "Feature importance\n",
      "          features     score\n",
      "7     relationship  0.452185\n",
      "10    capital-gain  0.219003\n",
      "4    education-num  0.189434\n",
      "0              age  0.054703\n",
      "11    capital-loss  0.044042\n",
      "12  hours-per-week  0.032426\n",
      "6       occupation  0.003798\n",
      "3        education  0.003143\n",
      "1        workclass  0.000972\n",
      "8             race  0.000295\n",
      "2           fnlwgt  0.000000\n",
      "5   marital-status  0.000000\n",
      "9              sex  0.000000\n",
      "13  native-country  0.000000\n",
      "14       direction  0.000000\n"
     ]
    }
   ],
   "source": [
    "features = x_train.columns\n",
    "scores = classifier.feature_importances_.tolist()\n",
    "res = pd.DataFrame({'features' : features, 'score': scores})\n",
    "res = res.sort_values(by=['score'], ascending=False)\n",
    "print(\"Feature importance\")\n",
    "print(res)"
   ]
  },
  {
   "cell_type": "code",
   "execution_count": 46,
   "metadata": {},
   "outputs": [
    {
     "name": "stdout",
     "output_type": "stream",
     "text": [
      "[[7168  310]\n",
      " [1088 1203]]\n",
      "With max f1 we get:\n",
      "FE f1 TP =  1203\n",
      "FE f1 FP =  310\n",
      "FE f1 TN =  7168\n",
      "FE f1 FN =  1088\n"
     ]
    }
   ],
   "source": [
    "cm = sklearn.metrics.confusion_matrix(y_test, pred)\n",
    "print(cm)\n",
    "\n",
    "fe_TP = 0\n",
    "fe_FP = 0\n",
    "fe_TN = 0\n",
    "fe_FN = 0\n",
    "\n",
    "y_true = y_test.values.tolist()\n",
    "pos_label_value = 1\n",
    "for x in range(len(pred)):\n",
    "    predicted = pred[x]\n",
    "    true = y_true[x][0]\n",
    "    if predicted == pos_label_value and true == pos_label_value:\n",
    "        fe_TP += 1\n",
    "    elif predicted == pos_label_value and true != pos_label_value:\n",
    "        fe_FP += 1\n",
    "    elif predicted != pos_label_value and true == pos_label_value:\n",
    "        fe_FN += 1\n",
    "    elif predicted != pos_label_value and true != pos_label_value:\n",
    "        fe_TN += 1\n",
    "print(\"With max f1 we get:\")\n",
    "print(\"FE f1 TP = \", fe_TP)\n",
    "print(\"FE f1 FP = \", fe_FP)\n",
    "print(\"FE f1 TN = \", fe_TN)\n",
    "print(\"FE f1 FN = \", fe_FN)"
   ]
  },
  {
   "cell_type": "markdown",
   "metadata": {},
   "source": [
    "# 5. Conclusions"
   ]
  },
  {
   "cell_type": "markdown",
   "metadata": {},
   "source": [
    "In summary, while the Decision Tree Classifier showed decent performance, focusing on observable features and considering different modeling approaches could lead to even better predictive capabilities in future iterations.\n"
   ]
  }
 ],
 "metadata": {
  "kernelspec": {
   "display_name": "Python 3 (ipykernel)",
   "language": "python",
   "name": "python3"
  },
  "language_info": {
   "codemirror_mode": {
    "name": "ipython",
    "version": 3
   },
   "file_extension": ".py",
   "mimetype": "text/x-python",
   "name": "python",
   "nbconvert_exporter": "python",
   "pygments_lexer": "ipython3",
   "version": "3.11.7"
  }
 },
 "nbformat": 4,
 "nbformat_minor": 4
}
